{
 "cells": [
  {
   "cell_type": "code",
   "execution_count": 7,
   "id": "50dfabb2-681e-4c54-a5e3-716c2979c4c4",
   "metadata": {},
   "outputs": [],
   "source": [
    "import pandas as pd\n",
    "d1={\"name\":[\"sai\",\"sub\",\"poo\"],\"age\":[20,21,22]}\n",
    "d2={\"qualifed\":[True,True,False]}"
   ]
  },
  {
   "cell_type": "code",
   "execution_count": 9,
   "id": "2afbc7f2-7b8f-4e31-ae92-f75b5daac8d8",
   "metadata": {},
   "outputs": [
    {
     "name": "stdout",
     "output_type": "stream",
     "text": [
      "  name  age\n",
      "0  sai   20\n",
      "1  sub   21\n",
      "2  poo   22\n",
      "   qualifed\n",
      "0      True\n",
      "1      True\n",
      "2     False\n",
      "  name  age  qualifed\n",
      "0  sai   20      True\n",
      "1  sub   21      True\n",
      "2  poo   22     False\n"
     ]
    }
   ],
   "source": [
    "df1=pd.DataFrame(d1)\n",
    "print(df1)\n",
    "df2=pd.DataFrame(d2)\n",
    "print(df2)\n",
    "newdf=df1.join(df2)\n",
    "print(newdf)"
   ]
  },
  {
   "cell_type": "code",
   "execution_count": 11,
   "id": "9e9078ca-83ee-4146-8fc2-4a1291859816",
   "metadata": {},
   "outputs": [],
   "source": [
    "d1={\"name\":[\"sai\",\"rishi\",\"thara\"],\"age\":[20,20,22]}\n",
    "d2={\"name\":[\"yuva\",\"rithi\",\"sanjay\"],\"age\":[20,21,22]}\n"
   ]
  },
  {
   "cell_type": "code",
   "execution_count": 13,
   "id": "bcb284f9-a9bf-4a9e-8071-6204bf540bae",
   "metadata": {},
   "outputs": [
    {
     "name": "stdout",
     "output_type": "stream",
     "text": [
      "    name  age\n",
      "0    sai   20\n",
      "1  rishi   20\n",
      "2  thara   22\n",
      "     name  age\n",
      "0    yuva   20\n",
      "1   rithi   21\n",
      "2  sanjay   22\n",
      "   name_x  age name_y\n",
      "0    yuva   20    sai\n",
      "1    yuva   20  rishi\n",
      "2  sanjay   22  thara \n",
      "\n",
      "  name_x  age  name_y\n",
      "0    sai   20    yuva\n",
      "1  rishi   20    yuva\n",
      "2  thara   22  sanjay \n",
      "\n"
     ]
    }
   ],
   "source": [
    "df1=pd.DataFrame(d1)\n",
    "print(df1)\n",
    "df2=pd.DataFrame(d2)\n",
    "print(df2)\n",
    "newdf1=(df2.merge(df1,on=\"age\"))\n",
    "newdf2=(df1.merge(df2,on=\"age\"))\n",
    "print(newdf1,\"\\n\")\n",
    "print(newdf2,\"\\n\")"
   ]
  },
  {
   "cell_type": "code",
   "execution_count": null,
   "id": "effbc132-eb24-47c5-a472-5ad0dcc9d2ba",
   "metadata": {},
   "outputs": [],
   "source": []
  },
  {
   "cell_type": "code",
   "execution_count": null,
   "id": "6a747124-677a-473e-8765-7d4d806e7595",
   "metadata": {},
   "outputs": [],
   "source": []
  }
 ],
 "metadata": {
  "kernelspec": {
   "display_name": "Python [conda env:base] *",
   "language": "python",
   "name": "conda-base-py"
  },
  "language_info": {
   "codemirror_mode": {
    "name": "ipython",
    "version": 3
   },
   "file_extension": ".py",
   "mimetype": "text/x-python",
   "name": "python",
   "nbconvert_exporter": "python",
   "pygments_lexer": "ipython3",
   "version": "3.12.7"
  }
 },
 "nbformat": 4,
 "nbformat_minor": 5
}
