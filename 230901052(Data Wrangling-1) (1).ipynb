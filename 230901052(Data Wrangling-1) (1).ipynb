{
 "cells": [
  {
   "cell_type": "code",
   "execution_count": 13,
   "id": "50dfabb2-681e-4c54-a5e3-716c2979c4c4",
   "metadata": {},
   "outputs": [],
   "source": [
    "import pandas as pd\n",
    "d1={\"name\":[\"sai\",\"sub\",\"poo\"],\"age\":[20,21,22]}\n",
    "d2={\"qualifed\":[True,True,False]}"
   ]
  },
  {
   "cell_type": "code",
   "execution_count": 15,
   "id": "2afbc7f2-7b8f-4e31-ae92-f75b5daac8d8",
   "metadata": {},
   "outputs": [
    {
     "name": "stdout",
     "output_type": "stream",
     "text": [
      "  name  age\n",
      "0  sai   20\n",
      "1  sub   21\n",
      "2  poo   22\n",
      "   qualifed\n",
      "0      True\n",
      "1      True\n",
      "2     False\n",
      "  name  age  qualifed\n",
      "0  sai   20      True\n",
      "1  sub   21      True\n",
      "2  poo   22     False\n"
     ]
    }
   ],
   "source": [
    "df1=pd.DataFrame(d1)\n",
    "print(df1)\n",
    "df2=pd.DataFrame(d2)\n",
    "print(df2)\n",
    "newdf=df1.join(df2)\n",
    "print(newdf)"
   ]
  },
  {
   "cell_type": "code",
   "execution_count": 17,
   "id": "9e9078ca-83ee-4146-8fc2-4a1291859816",
   "metadata": {},
   "outputs": [],
   "source": [
    "d1={\"name\":[\"sai\",\"rishi\",\"thara\"],\"age\":[20,20,22]}\n",
    "d2={\"name\":[\"yuva\",\"rithi\",\"sanjay\"],\"age\":[20,21,22]}\n"
   ]
  },
  {
   "cell_type": "code",
   "execution_count": 19,
   "id": "bcb284f9-a9bf-4a9e-8071-6204bf540bae",
   "metadata": {},
   "outputs": [
    {
     "name": "stdout",
     "output_type": "stream",
     "text": [
      "    name  age\n",
      "0    sai   20\n",
      "1  rishi   20\n",
      "2  thara   22\n",
      "     name  age\n",
      "0    yuva   20\n",
      "1   rithi   21\n",
      "2  sanjay   22\n",
      "   name_x  age name_y\n",
      "0    yuva   20    sai\n",
      "1    yuva   20  rishi\n",
      "2  sanjay   22  thara \n",
      "\n",
      "  name_x  age  name_y\n",
      "0    sai   20    yuva\n",
      "1  rishi   20    yuva\n",
      "2  thara   22  sanjay \n",
      "\n"
     ]
    }
   ],
   "source": [
    "df1=pd.DataFrame(d1)\n",
    "print(df1)\n",
    "df2=pd.DataFrame(d2)\n",
    "print(df2)\n",
    "newdf1=(df2.merge(df1,on=\"age\"))\n",
    "newdf2=(df1.merge(df2,on=\"age\"))\n",
    "print(newdf1,\"\\n\")\n",
    "print(newdf2,\"\\n\")"
   ]
  },
  {
   "cell_type": "code",
   "execution_count": 21,
   "id": "effbc132-eb24-47c5-a472-5ad0dcc9d2ba",
   "metadata": {},
   "outputs": [
    {
     "name": "stdout",
     "output_type": "stream",
     "text": [
      "  team  points  assist  rebounds\n",
      "0    A      90      12        56\n",
      "1    B      56      34        43\n",
      "2    C      78      23        55\n",
      "3    D      88      44        12\n",
      "\n",
      "Reshaped DataFrame:\n",
      "    team  variable  value\n",
      "0     A    points     90\n",
      "1     B    points     56\n",
      "2     C    points     78\n",
      "3     D    points     88\n",
      "4     A    assist     12\n",
      "5     B    assist     34\n",
      "6     C    assist     23\n",
      "7     D    assist     44\n",
      "8     A  rebounds     56\n",
      "9     B  rebounds     43\n",
      "10    C  rebounds     55\n",
      "11    D  rebounds     12\n"
     ]
    }
   ],
   "source": [
    "df=pd.DataFrame({'team':['A','B','C','D'],'points':[90,56,78,88],'assist':[12,34,23,44],'rebounds':[56,43,55,12]})\n",
    "print(df)\n",
    "df=pd.melt(df,id_vars='team',value_vars=['points','assist','rebounds'])\n",
    "print(\"\\nReshaped DataFrame:\\n\",df)"
   ]
  }
 ],
 "metadata": {
  "kernelspec": {
   "display_name": "Python [conda env:base] *",
   "language": "python",
   "name": "conda-base-py"
  },
  "language_info": {
   "codemirror_mode": {
    "name": "ipython",
    "version": 3
   },
   "file_extension": ".py",
   "mimetype": "text/x-python",
   "name": "python",
   "nbconvert_exporter": "python",
   "pygments_lexer": "ipython3",
   "version": "3.12.7"
  }
 },
 "nbformat": 4,
 "nbformat_minor": 5
}
